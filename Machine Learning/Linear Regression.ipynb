{
 "cells": [
  {
   "cell_type": "markdown",
   "id": "d205ac30",
   "metadata": {},
   "source": [
    "# Linear Regression"
   ]
  },
  {
   "cell_type": "code",
   "execution_count": null,
   "id": "3c2f5bde",
   "metadata": {},
   "outputs": [],
   "source": [
    "import matplotlib.pyplot as plt\n",
    "import pandas as pd"
   ]
  },
  {
   "cell_type": "code",
   "execution_count": null,
   "id": "b37378cf",
   "metadata": {},
   "outputs": [],
   "source": [
    "dataset = pd.read_csv('LinearRegressionData.csv')"
   ]
  },
  {
   "cell_type": "code",
   "execution_count": null,
   "id": "7ba201c0",
   "metadata": {},
   "outputs": [],
   "source": [
    "dataset.head()"
   ]
  },
  {
   "cell_type": "code",
   "execution_count": null,
   "id": "57874d36",
   "metadata": {},
   "outputs": [],
   "source": [
    "#row :모든 줄 다 ,column :-1마지막행빼고 다\n",
    "X = dataset.iloc[:,:-1].values #independent, feature\n",
    "#row :모든 줄 다 ,column -1마지막행만\n",
    "y = dataset.iloc[:,-1].values #dependent, target "
   ]
  },
  {
   "cell_type": "code",
   "execution_count": null,
   "id": "729be646",
   "metadata": {},
   "outputs": [],
   "source": [
    "X,y"
   ]
  },
  {
   "cell_type": "code",
   "execution_count": null,
   "id": "ea05dac0",
   "metadata": {},
   "outputs": [],
   "source": [
    "from sklearn.linear_model import LinearRegression\n",
    "reg = LinearRegression() #객체생성\n",
    "reg.fit(X,y)\n",
    "y_pred = reg.predict(X) #X에 대한 예측\n",
    "y_pred"
   ]
  },
  {
   "cell_type": "code",
   "execution_count": null,
   "id": "9a60499e",
   "metadata": {},
   "outputs": [],
   "source": [
    "plt.scatter(X,y,color = 'blue')\n",
    "plt.plot(X,y_pred,color = 'red')\n",
    "plt.title('Score by hours')\n",
    "plt.xlabel('hours')\n",
    "plt.ylabel('score')\n",
    "plt.show()"
   ]
  },
  {
   "cell_type": "code",
   "execution_count": null,
   "id": "1c0510c6",
   "metadata": {},
   "outputs": [],
   "source": [
    "print( '9,8,7시간 공부했을때 점수: ' ,reg.predict([[9],[8],[7]]) )"
   ]
  },
  {
   "cell_type": "code",
   "execution_count": null,
   "id": "8be6a516",
   "metadata": {},
   "outputs": [],
   "source": [
    "reg.coef_ #기울기 coefficient"
   ]
  },
  {
   "cell_type": "code",
   "execution_count": null,
   "id": "7801d62f",
   "metadata": {},
   "outputs": [],
   "source": [
    "reg.intercept_ #y절편 intercept"
   ]
  },
  {
   "cell_type": "markdown",
   "id": "6ee7e638",
   "metadata": {},
   "source": [
    "## dataset : train, test"
   ]
  },
  {
   "cell_type": "code",
   "execution_count": null,
   "id": "047c6b3d",
   "metadata": {},
   "outputs": [],
   "source": [
    "from sklearn.model_selection import train_test_split\n",
    "X_train,y_train,X_test,y_test = train_test_split(X,y,test_size = 0.2, random_state =0)"
   ]
  },
  {
   "cell_type": "code",
   "execution_count": null,
   "id": "a7bc9f61",
   "metadata": {},
   "outputs": [],
   "source": [
    "X, len(X) # 전체 데이터 X, 개수"
   ]
  },
  {
   "cell_type": "code",
   "execution_count": null,
   "id": "71c4a319",
   "metadata": {},
   "outputs": [],
   "source": [
    "X_train,len(X_train)"
   ]
  },
  {
   "cell_type": "code",
   "execution_count": null,
   "id": "0f143984",
   "metadata": {},
   "outputs": [],
   "source": [
    "X_test, len(X_test) # 테스트 세트 X, 개수"
   ]
  },
  {
   "cell_type": "code",
   "execution_count": null,
   "id": "c2d499d3",
   "metadata": {},
   "outputs": [],
   "source": [
    "y_train, len(y_train) # 훈련 세트 y"
   ]
  },
  {
   "cell_type": "code",
   "execution_count": null,
   "id": "2c9c649e",
   "metadata": {},
   "outputs": [],
   "source": [
    "y_test, len(y_test) # 테스트 세트 y"
   ]
  },
  {
   "cell_type": "markdown",
   "id": "725c6ad2",
   "metadata": {},
   "source": [
    "## modeling with train data"
   ]
  },
  {
   "cell_type": "code",
   "execution_count": null,
   "id": "1ba225fb",
   "metadata": {},
   "outputs": [],
   "source": [
    "from sklearn.linear_model import LinearRegression\n",
    "reg = LinearRegression()"
   ]
  },
  {
   "cell_type": "code",
   "execution_count": null,
   "id": "02db3ddc",
   "metadata": {},
   "outputs": [],
   "source": [
    "reg.fit(X_train, y_train) # 훈련 세트로 학습"
   ]
  },
  {
   "cell_type": "markdown",
   "id": "9893836e",
   "metadata": {},
   "source": [
    "##  model score"
   ]
  },
  {
   "cell_type": "code",
   "execution_count": null,
   "id": "14d3462e",
   "metadata": {},
   "outputs": [],
   "source": [
    "reg.score(X_test, y_test) # 테스트 세트를 통한 모델 평가"
   ]
  },
  {
   "cell_type": "code",
   "execution_count": null,
   "id": "b72d6d97",
   "metadata": {},
   "outputs": [],
   "source": [
    "reg.score(X_train, y_train) # 훈련 세트를 통한 모델 평가"
   ]
  },
  {
   "cell_type": "code",
   "execution_count": null,
   "id": "3f7b7120",
   "metadata": {},
   "outputs": [],
   "source": []
  }
 ],
 "metadata": {
  "kernelspec": {
   "display_name": "Python 3 (ipykernel)",
   "language": "python",
   "name": "python3"
  },
  "language_info": {
   "codemirror_mode": {
    "name": "ipython",
    "version": 3
   },
   "file_extension": ".py",
   "mimetype": "text/x-python",
   "name": "python",
   "nbconvert_exporter": "python",
   "pygments_lexer": "ipython3",
   "version": "3.9.13"
  }
 },
 "nbformat": 4,
 "nbformat_minor": 5
}
