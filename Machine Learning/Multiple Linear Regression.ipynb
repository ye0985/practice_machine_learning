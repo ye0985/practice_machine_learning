{
 "cells": [
  {
   "cell_type": "markdown",
   "id": "6a95b4d3",
   "metadata": {},
   "source": [
    "# MultipleLinearRegression"
   ]
  },
  {
   "cell_type": "markdown",
   "id": "65768f21",
   "metadata": {},
   "source": [
    "## one hot encoding 컬럼을 0,1 로 나누기"
   ]
  },
  {
   "cell_type": "code",
   "execution_count": 1,
   "id": "6c351283",
   "metadata": {},
   "outputs": [],
   "source": [
    "import pandas as pd"
   ]
  },
  {
   "cell_type": "code",
   "execution_count": 11,
   "id": "0165d286",
   "metadata": {},
   "outputs": [
    {
     "data": {
      "text/html": [
       "<div>\n",
       "<style scoped>\n",
       "    .dataframe tbody tr th:only-of-type {\n",
       "        vertical-align: middle;\n",
       "    }\n",
       "\n",
       "    .dataframe tbody tr th {\n",
       "        vertical-align: top;\n",
       "    }\n",
       "\n",
       "    .dataframe thead th {\n",
       "        text-align: right;\n",
       "    }\n",
       "</style>\n",
       "<table border=\"1\" class=\"dataframe\">\n",
       "  <thead>\n",
       "    <tr style=\"text-align: right;\">\n",
       "      <th></th>\n",
       "      <th>hour</th>\n",
       "      <th>absent</th>\n",
       "      <th>place</th>\n",
       "    </tr>\n",
       "  </thead>\n",
       "  <tbody>\n",
       "    <tr>\n",
       "      <th>0</th>\n",
       "      <td>0.5</td>\n",
       "      <td>3</td>\n",
       "      <td>Home</td>\n",
       "    </tr>\n",
       "    <tr>\n",
       "      <th>1</th>\n",
       "      <td>1.2</td>\n",
       "      <td>4</td>\n",
       "      <td>Library</td>\n",
       "    </tr>\n",
       "    <tr>\n",
       "      <th>2</th>\n",
       "      <td>1.8</td>\n",
       "      <td>2</td>\n",
       "      <td>Cafe</td>\n",
       "    </tr>\n",
       "    <tr>\n",
       "      <th>3</th>\n",
       "      <td>2.4</td>\n",
       "      <td>0</td>\n",
       "      <td>Cafe</td>\n",
       "    </tr>\n",
       "    <tr>\n",
       "      <th>4</th>\n",
       "      <td>2.6</td>\n",
       "      <td>2</td>\n",
       "      <td>Home</td>\n",
       "    </tr>\n",
       "    <tr>\n",
       "      <th>5</th>\n",
       "      <td>3.2</td>\n",
       "      <td>0</td>\n",
       "      <td>Home</td>\n",
       "    </tr>\n",
       "    <tr>\n",
       "      <th>6</th>\n",
       "      <td>3.9</td>\n",
       "      <td>0</td>\n",
       "      <td>Library</td>\n",
       "    </tr>\n",
       "    <tr>\n",
       "      <th>7</th>\n",
       "      <td>4.4</td>\n",
       "      <td>0</td>\n",
       "      <td>Library</td>\n",
       "    </tr>\n",
       "    <tr>\n",
       "      <th>8</th>\n",
       "      <td>4.5</td>\n",
       "      <td>5</td>\n",
       "      <td>Home</td>\n",
       "    </tr>\n",
       "    <tr>\n",
       "      <th>9</th>\n",
       "      <td>5.0</td>\n",
       "      <td>1</td>\n",
       "      <td>Cafe</td>\n",
       "    </tr>\n",
       "    <tr>\n",
       "      <th>10</th>\n",
       "      <td>5.3</td>\n",
       "      <td>2</td>\n",
       "      <td>Cafe</td>\n",
       "    </tr>\n",
       "    <tr>\n",
       "      <th>11</th>\n",
       "      <td>5.8</td>\n",
       "      <td>0</td>\n",
       "      <td>Cafe</td>\n",
       "    </tr>\n",
       "    <tr>\n",
       "      <th>12</th>\n",
       "      <td>6.0</td>\n",
       "      <td>3</td>\n",
       "      <td>Library</td>\n",
       "    </tr>\n",
       "    <tr>\n",
       "      <th>13</th>\n",
       "      <td>6.1</td>\n",
       "      <td>1</td>\n",
       "      <td>Cafe</td>\n",
       "    </tr>\n",
       "    <tr>\n",
       "      <th>14</th>\n",
       "      <td>6.2</td>\n",
       "      <td>1</td>\n",
       "      <td>Library</td>\n",
       "    </tr>\n",
       "    <tr>\n",
       "      <th>15</th>\n",
       "      <td>6.9</td>\n",
       "      <td>4</td>\n",
       "      <td>Home</td>\n",
       "    </tr>\n",
       "    <tr>\n",
       "      <th>16</th>\n",
       "      <td>7.2</td>\n",
       "      <td>2</td>\n",
       "      <td>Cafe</td>\n",
       "    </tr>\n",
       "    <tr>\n",
       "      <th>17</th>\n",
       "      <td>8.4</td>\n",
       "      <td>1</td>\n",
       "      <td>Home</td>\n",
       "    </tr>\n",
       "    <tr>\n",
       "      <th>18</th>\n",
       "      <td>8.6</td>\n",
       "      <td>1</td>\n",
       "      <td>Library</td>\n",
       "    </tr>\n",
       "    <tr>\n",
       "      <th>19</th>\n",
       "      <td>10.0</td>\n",
       "      <td>0</td>\n",
       "      <td>Library</td>\n",
       "    </tr>\n",
       "  </tbody>\n",
       "</table>\n",
       "</div>"
      ],
      "text/plain": [
       "    hour  absent    place\n",
       "0    0.5       3     Home\n",
       "1    1.2       4  Library\n",
       "2    1.8       2     Cafe\n",
       "3    2.4       0     Cafe\n",
       "4    2.6       2     Home\n",
       "5    3.2       0     Home\n",
       "6    3.9       0  Library\n",
       "7    4.4       0  Library\n",
       "8    4.5       5     Home\n",
       "9    5.0       1     Cafe\n",
       "10   5.3       2     Cafe\n",
       "11   5.8       0     Cafe\n",
       "12   6.0       3  Library\n",
       "13   6.1       1     Cafe\n",
       "14   6.2       1  Library\n",
       "15   6.9       4     Home\n",
       "16   7.2       2     Cafe\n",
       "17   8.4       1     Home\n",
       "18   8.6       1  Library\n",
       "19  10.0       0  Library"
      ]
     },
     "execution_count": 11,
     "metadata": {},
     "output_type": "execute_result"
    }
   ],
   "source": [
    "dataset = pd.read_csv('MultipleLinearRegressionData.csv')\n",
    "X = dataset.iloc[:,:-1] \n",
    "y = dataset.iloc[:,-1]\n",
    "X"
   ]
  },
  {
   "cell_type": "code",
   "execution_count": 21,
   "id": "6c0349da",
   "metadata": {},
   "outputs": [
    {
     "data": {
      "text/plain": [
       "0      10\n",
       "1       8\n",
       "2      14\n",
       "3      26\n",
       "4      22\n",
       "5      30\n",
       "6      42\n",
       "7      48\n",
       "8      38\n",
       "9      58\n",
       "10     60\n",
       "11     72\n",
       "12     62\n",
       "13     68\n",
       "14     72\n",
       "15     58\n",
       "16     76\n",
       "17     86\n",
       "18     90\n",
       "19    100\n",
       "Name: score, dtype: int64"
      ]
     },
     "execution_count": 21,
     "metadata": {},
     "output_type": "execute_result"
    }
   ],
   "source": [
    "y"
   ]
  },
  {
   "cell_type": "code",
   "execution_count": 12,
   "id": "e2970b6b",
   "metadata": {},
   "outputs": [
    {
     "data": {
      "text/plain": [
       "array([[ 1. ,  0. ,  0.5,  3. ],\n",
       "       [ 0. ,  1. ,  1.2,  4. ],\n",
       "       [ 0. ,  0. ,  1.8,  2. ],\n",
       "       [ 0. ,  0. ,  2.4,  0. ],\n",
       "       [ 1. ,  0. ,  2.6,  2. ],\n",
       "       [ 1. ,  0. ,  3.2,  0. ],\n",
       "       [ 0. ,  1. ,  3.9,  0. ],\n",
       "       [ 0. ,  1. ,  4.4,  0. ],\n",
       "       [ 1. ,  0. ,  4.5,  5. ],\n",
       "       [ 0. ,  0. ,  5. ,  1. ],\n",
       "       [ 0. ,  0. ,  5.3,  2. ],\n",
       "       [ 0. ,  0. ,  5.8,  0. ],\n",
       "       [ 0. ,  1. ,  6. ,  3. ],\n",
       "       [ 0. ,  0. ,  6.1,  1. ],\n",
       "       [ 0. ,  1. ,  6.2,  1. ],\n",
       "       [ 1. ,  0. ,  6.9,  4. ],\n",
       "       [ 0. ,  0. ,  7.2,  2. ],\n",
       "       [ 1. ,  0. ,  8.4,  1. ],\n",
       "       [ 0. ,  1. ,  8.6,  1. ],\n",
       "       [ 0. ,  1. , 10. ,  0. ]])"
      ]
     },
     "execution_count": 12,
     "metadata": {},
     "output_type": "execute_result"
    }
   ],
   "source": [
    "from sklearn.compose import ColumnTransformer\n",
    "from sklearn.preprocessing import OneHotEncoder\n",
    "\n",
    "#place를 원핫인코딩한뒤 first column drop없애기, 2번째컬럼(place)해당, 나머지 컬럼 냅두기\n",
    "ct =ColumnTransformer(transformers=[('encoder', OneHotEncoder(drop='first'), [2])], remainder = 'passthrough')\n",
    "\n",
    "X = ct.fit_transform(X)\n",
    "X\n",
    "#맨앞 두개\n",
    "#1,0 home\n",
    "#0,1 library\n",
    "#0,0 cafe"
   ]
  },
  {
   "cell_type": "code",
   "execution_count": 17,
   "id": "fc405ebd",
   "metadata": {},
   "outputs": [],
   "source": [
    "from sklearn.model_selection import train_test_split\n",
    "X_train, X_test, y_train, y_test = train_test_split(X,y,test_size=0.2, random_state=0)"
   ]
  },
  {
   "cell_type": "code",
   "execution_count": 18,
   "id": "aaf7422c",
   "metadata": {},
   "outputs": [
    {
     "data": {
      "text/plain": [
       "LinearRegression()"
      ]
     },
     "execution_count": 18,
     "metadata": {},
     "output_type": "execute_result"
    }
   ],
   "source": [
    "from sklearn.linear_model import LinearRegression\n",
    "\n",
    "reg = LinearRegression()\n",
    "\n",
    "reg.fit(X_train,y_train) #train data fit"
   ]
  },
  {
   "cell_type": "code",
   "execution_count": 19,
   "id": "ec3b7749",
   "metadata": {},
   "outputs": [
    {
     "data": {
      "text/plain": [
       "array([ 92.15457859,  10.23753043, 108.36245302,  38.14675204])"
      ]
     },
     "execution_count": 19,
     "metadata": {},
     "output_type": "execute_result"
    }
   ],
   "source": [
    "y_pred = reg.predict(X_test) #test data predict\n",
    "y_pred #예측값\n"
   ]
  },
  {
   "cell_type": "code",
   "execution_count": 20,
   "id": "30623105",
   "metadata": {},
   "outputs": [
    {
     "data": {
      "text/plain": [
       "18     90\n",
       "1       8\n",
       "19    100\n",
       "8      38\n",
       "Name: score, dtype: int64"
      ]
     },
     "execution_count": 20,
     "metadata": {},
     "output_type": "execute_result"
    }
   ],
   "source": [
    "y_test #실제값 90 8 100 38"
   ]
  },
  {
   "cell_type": "code",
   "execution_count": 22,
   "id": "8e5a1eb1",
   "metadata": {},
   "outputs": [
    {
     "data": {
      "text/plain": [
       "array([-5.82712824, -1.04450647, 10.40419528, -1.64200104])"
      ]
     },
     "execution_count": 22,
     "metadata": {},
     "output_type": "execute_result"
    }
   ],
   "source": [
    "reg.coef_ #기울기 \n",
    "#home,library,hour,absent : home보다 library보다 cafe(0)에서 더 좋다\n",
    "#공부시간 1시간씩 10점씩 오른다\n",
    "#결석할때마다 1점씩 내려간다"
   ]
  },
  {
   "cell_type": "code",
   "execution_count": 23,
   "id": "da5beda2",
   "metadata": {},
   "outputs": [
    {
     "data": {
      "text/plain": [
       "5.365006706544747"
      ]
     },
     "execution_count": 23,
     "metadata": {},
     "output_type": "execute_result"
    }
   ],
   "source": [
    "reg.intercept_"
   ]
  },
  {
   "cell_type": "code",
   "execution_count": 24,
   "id": "53ff162a",
   "metadata": {},
   "outputs": [
    {
     "data": {
      "text/plain": [
       "0.9623352565265527"
      ]
     },
     "execution_count": 24,
     "metadata": {},
     "output_type": "execute_result"
    }
   ],
   "source": [
    "reg.score(X_train,y_train) #train data score"
   ]
  },
  {
   "cell_type": "code",
   "execution_count": 25,
   "id": "94ef8ff3",
   "metadata": {},
   "outputs": [
    {
     "data": {
      "text/plain": [
       "0.9859956178877445"
      ]
     },
     "execution_count": 25,
     "metadata": {},
     "output_type": "execute_result"
    }
   ],
   "source": [
    "reg.score(X_test,y_test) #test data score"
   ]
  },
  {
   "cell_type": "markdown",
   "id": "1f5f4e98",
   "metadata": {},
   "source": [
    "1. MAE (Mean Absolute Error) : (실제 값과 예측 값) 차이의 절대값\n",
    "1. MSE (Mean Squared Error) : 차이의 제곱\n",
    "1. RMSE (Root Mean Squared Error) : 차이의 제곱에 루트\n",
    "1. R2 : 결정 계수\n",
    "\n",
    "> R2 는 1에 가까울수록, 나머지는 0에 가까울수록 좋음"
   ]
  },
  {
   "cell_type": "code",
   "execution_count": 26,
   "id": "37410b11",
   "metadata": {},
   "outputs": [
    {
     "data": {
      "text/plain": [
       "3.2253285188288023"
      ]
     },
     "execution_count": 26,
     "metadata": {},
     "output_type": "execute_result"
    }
   ],
   "source": [
    "#mae\n",
    "from sklearn.metrics import mean_absolute_error\n",
    "mean_absolute_error(y_test,y_pred) #실제값과 예측값"
   ]
  },
  {
   "cell_type": "code",
   "execution_count": 27,
   "id": "ab8b9b3a",
   "metadata": {},
   "outputs": [
    {
     "data": {
      "text/plain": [
       "19.900226981515015"
      ]
     },
     "execution_count": 27,
     "metadata": {},
     "output_type": "execute_result"
    }
   ],
   "source": [
    "#mse\n",
    "from sklearn.metrics import mean_squared_error\n",
    "mean_squared_error(y_test,y_pred) #실제값과 예측값"
   ]
  },
  {
   "cell_type": "code",
   "execution_count": 29,
   "id": "09549b8e",
   "metadata": {},
   "outputs": [
    {
     "data": {
      "text/plain": [
       "4.460967045553578"
      ]
     },
     "execution_count": 29,
     "metadata": {},
     "output_type": "execute_result"
    }
   ],
   "source": [
    "#rmse\n",
    "from sklearn.metrics import mean_squared_error\n",
    "mean_squared_error(y_test, y_pred, squared=False) #실제값과 예측값"
   ]
  },
  {
   "cell_type": "code",
   "execution_count": 30,
   "id": "49e5376c",
   "metadata": {},
   "outputs": [
    {
     "data": {
      "text/plain": [
       "0.9859956178877445"
      ]
     },
     "execution_count": 30,
     "metadata": {},
     "output_type": "execute_result"
    }
   ],
   "source": [
    "from sklearn.metrics import r2_score\n",
    "r2_score(y_test,y_pred) #실제값과 예측값"
   ]
  },
  {
   "cell_type": "code",
   "execution_count": null,
   "id": "1ecd5dfb",
   "metadata": {},
   "outputs": [],
   "source": []
  }
 ],
 "metadata": {
  "kernelspec": {
   "display_name": "Python 3 (ipykernel)",
   "language": "python",
   "name": "python3"
  },
  "language_info": {
   "codemirror_mode": {
    "name": "ipython",
    "version": 3
   },
   "file_extension": ".py",
   "mimetype": "text/x-python",
   "name": "python",
   "nbconvert_exporter": "python",
   "pygments_lexer": "ipython3",
   "version": "3.9.13"
  }
 },
 "nbformat": 4,
 "nbformat_minor": 5
}
